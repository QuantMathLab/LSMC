{
 "cells": [
  {
   "cell_type": "markdown",
   "id": "7aeff711",
   "metadata": {},
   "source": [
    "### Least Square Monte Carlo (LSM)\n",
    "This python notebook implements the algrithm to price american options based on the very well known paper by Longstaff and Schwartz. The pricing and optimal exercise of American options is a challenging problems in derivatives finance, particularly when more than one factor affects the value of the option.\n",
    "\n",
    "At any exercise time, the holder of an American option optimally compares the payoff from immediate exercise with the expected payoff from continuation, and then exercises if the immediate payoff is higher. Thus the optimal exercise strategy is fundamentally determined by the conditional expectation of the payoff from continuing to keep the option alive. The key insight underlying of LSM approach is that this conditional expectation can be estimated from the cross-sectional information in the simulation by using least squares. \n",
    "\n",
    "Specifically, \n",
    "\n",
    "* Regress the ex post realized payoffs from continuation on functions of the values of the state variables. \n",
    "* The fitted value from above regression provides a direct estimate of the conditional expectation function. \n",
    "* By estimating the conditional expectation function for each exercise date, we obtain a complete specification of the optimal exercise strategy along each path. \n",
    "* With above specification, American options can then be valued accurately by simulation. \n",
    "\n",
    "Longstaff and Schwartz refer to this technique as the least squares Monte Carlo (LSM) approach."
   ]
  },
  {
   "cell_type": "markdown",
   "id": "aedeacb6",
   "metadata": {},
   "source": [
    "### Intution through a simple example\n",
    "Below a simple example discussed in the paper to convey the intution of LSM approach. Consider an American put option on a\n",
    "share of non-dividend-paying stock. The put option is exercisable at a strike price of 1.10 at times 1 , 2, and 3, where time three is the final expiration date of the option. The riskless rate is 6%. For simplicity, illustration shows the algorithm using only eight sample paths for the price of the stock. These sample paths are generated under the risk-neutral measure and are shown in the following matrix."
   ]
  },
  {
   "cell_type": "code",
   "execution_count": 1,
   "id": "090fe474",
   "metadata": {},
   "outputs": [
    {
     "name": "stdout",
     "output_type": "stream",
     "text": [
      "Stock price paths \n",
      "\n",
      "Path  t = 0  t = 1  t = 2  t = 3\n",
      " 1    1.0    1.09   1.08   1.34 \n",
      " 2    1.0    1.16   1.26   1.54 \n",
      " 3    1.0    1.22   1.07   1.03 \n",
      " 4    1.0    0.93   0.97   0.92 \n",
      " 5    1.0    1.11   1.56   1.52 \n",
      " 6    1.0    0.76   0.77   0.90 \n",
      " 7    1.0    0.92   0.84   1.01 \n",
      " 8    1.0    0.88   1.22   1.34 \n"
     ]
    }
   ],
   "source": [
    "import pandas as pd\n",
    "import statsmodels.api as sm\n",
    "import numpy as np\n",
    "\n",
    "pd.set_option('display.colheader_justify', 'center')  # Center align column headers\n",
    "pd.set_option('display.width', None)  # Adjust for wider output if needed\n",
    "\n",
    "# Data\n",
    "k = 1.1\n",
    "r = 0.06\n",
    "samplePaths = {\n",
    "    'Path': ['1', '2', '3', '4', '5', '6', '7', '8'],\n",
    "    't = 0': [1.00, 1.00, 1.00, 1.00, 1.00, 1.00, 1.00, 1.00],\n",
    "    't = 1': [1.09, 1.16, 1.22, 0.93, 1.11, 0.76, 0.92, 0.88],\n",
    "    't = 2': [1.08, 1.26, 1.07, 0.97, 1.56, 0.77, 0.84, 1.22],\n",
    "    't = 3': [1.34, 1.54, 1.03, 0.92, 1.52, 0.90, 1.01, 1.34]\n",
    "}\n",
    "\n",
    "# Create DataFrame\n",
    "samplePaths = pd.DataFrame(samplePaths)\n",
    "\n",
    "# Display the DataFrame\n",
    "print(\"Stock price paths \\n\")\n",
    "print(samplePaths.to_string(index=False))\n"
   ]
  },
  {
   "cell_type": "markdown",
   "id": "d5b89bf0",
   "metadata": {},
   "source": [
    "The algorithm is recursive and starts first by getting the payoffs at the expiry in the above case at point t = 3. Cash flow metrics at time 3 is calculated below."
   ]
  },
  {
   "cell_type": "code",
   "execution_count": 2,
   "id": "fb325b6a",
   "metadata": {},
   "outputs": [
    {
     "name": "stdout",
     "output_type": "stream",
     "text": [
      "Cash flow matrix at time 3 \n",
      "\n",
      "Path t = 1 t = 2  t = 3\n",
      " 1     -     -    0.00 \n",
      " 2     -     -    0.00 \n",
      " 3     -     -    0.07 \n",
      " 4     -     -    0.18 \n",
      " 5     -     -    0.00 \n",
      " 6     -     -    0.20 \n",
      " 7     -     -    0.09 \n",
      " 8     -     -    0.00 \n"
     ]
    }
   ],
   "source": [
    "cashFlowMetricsTime3 = pd.DataFrame()\n",
    "cashFlowMetricsTime3['Path'] =  samplePaths['Path']\n",
    "cashFlowMetricsTime3['t = 1'] = '-'\n",
    "cashFlowMetricsTime3['t = 2'] = '-'\n",
    "cashFlowMetricsTime3['t = 3'] = (k - samplePaths['t = 3']).clip(0)\n",
    "\n",
    "# Display the DataFrame\n",
    "print(\"Cash flow matrix at time 3 \\n\")\n",
    "print(cashFlowMetricsTime3.to_string(index=False))"
   ]
  },
  {
   "cell_type": "markdown",
   "id": "c27ba2e4",
   "metadata": {},
   "source": [
    "If the put is in the money at time 2, the optionholder must then decide whether to exercise the option immediately or continue the option's life until the final expiration date at time 3. From the stock-price matrix, there are only five paths for which the option is in the money at time 2. Let $X$ denote the stock prices at time 2 for these five paths and $Y$ denote the corresponding discounted cash flows received at time 3 if the put is not exercised at time 2. Only in-the-money paths are used since it allows to better estimate the conditional expectation function in the region where exercise is relevant and significantly improves the efficiency of the algorithm. The vectors $X$ and $Y$ are given by the nondashed entries below."
   ]
  },
  {
   "cell_type": "code",
   "execution_count": 3,
   "id": "52816c1e",
   "metadata": {},
   "outputs": [
    {
     "name": "stdout",
     "output_type": "stream",
     "text": [
      "Regression at time 2 \n",
      "\n",
      "Path       Y          X  \n",
      " 1    0.0 x 0.94176  1.08\n",
      " 2                -     -\n",
      " 3   0.07 x 0.94176  1.07\n",
      " 4   0.18 x 0.94176  0.97\n",
      " 5                -     -\n",
      " 6    0.2 x 0.94176  0.77\n",
      " 7   0.09 x 0.94176  0.84\n",
      " 8                -     -\n"
     ]
    }
   ],
   "source": [
    "discountFactorTime2 = round(np.exp(-r*1), 5)\n",
    "#get X and Y at time 2\n",
    "regressionTime2 = pd.DataFrame()\n",
    "regressionTime2['Path'] = samplePaths['Path']\n",
    "regressionTime2['Y'] = round(cashFlowMetricsTime3['t = 3'],2).astype(str) + ' x ' +  str(discountFactorTime2)\n",
    "regressionTime2['X'] = samplePaths['t = 2']\n",
    "\n",
    "#check if option is in the money at time 2 and consider only those paths\n",
    "regressionTime2[['Y', 'X']] = regressionTime2.apply(lambda row: row[['Y', 'X']] if row['X'] < k else ['-'] * 2, axis=1)\n",
    "\n",
    "\n",
    "\n",
    "# Display the DataFrame\n",
    "print(\"Regression at time 2 \\n\")\n",
    "print(regressionTime2.to_string(index=False, header=True, justify='center'))"
   ]
  },
  {
   "cell_type": "markdown",
   "id": "161f9390",
   "metadata": {},
   "source": [
    "To estimate the expected cash flow from continuing the option's life conditional on the stock price at time 2, regress $Y$ on a constant, $X$, and $X^2$."
   ]
  },
  {
   "cell_type": "code",
   "execution_count": 4,
   "id": "8869890c",
   "metadata": {},
   "outputs": [],
   "source": [
    "\n",
    "# working with a copy of the DataFrame\n",
    "regressionTime2Final = regressionTime2.copy()\n",
    "\n",
    "# Prepare the data for regression\n",
    "regressionTime2Final['Y'] = cashFlowMetricsTime3['t = 3'] * discountFactorTime2\n",
    "\n",
    "# Drop samples where option is out of the money at time 2\n",
    "regressionTime2Final = regressionTime2Final[regressionTime2Final['X'] != '-']\n",
    "\n",
    "# Convert 'Y' and 'X' to numeric using .loc to avoid SettingWithCopyWarning\n",
    "regressionTime2Final.loc[:, 'Y'] = pd.to_numeric(regressionTime2Final['Y'], errors='coerce')\n",
    "regressionTime2Final.loc[:, 'X'] = pd.to_numeric(regressionTime2Final['X'], errors='coerce')\n",
    "\n",
    "# Create 'X^2' (squared term)\n",
    "regressionTime2Final.loc[:, 'X_Squared'] = regressionTime2Final['X'] ** 2\n",
    "\n",
    "# Define the independent variables (including constant)\n",
    "X = regressionTime2Final[['X', 'X_Squared']]\n",
    "X = sm.add_constant(X)  # Adds the constant term to the model\n",
    "\n",
    "# Define the dependent variable\n",
    "y = regressionTime2Final['Y']\n",
    "\n",
    "# Perform the regression\n",
    "model = sm.OLS(y, X).fit()\n",
    "\n",
    "# Print the summary of the regression\n",
    "#print(model.summary())\n",
    "\n",
    "#get the final result\n",
    "interceptTime2 = model.params['const']\n",
    "coefficient_X_Time2 = model.params['X']\n",
    "coefficient_X_squared_Time2 = model.params['X_Squared']\n"
   ]
  },
  {
   "cell_type": "code",
   "execution_count": 5,
   "id": "c11122ae",
   "metadata": {},
   "outputs": [
    {
     "name": "stdout",
     "output_type": "stream",
     "text": [
      "The condition expectation function using the result of the regression is : \n"
     ]
    },
    {
     "data": {
      "text/markdown": [
       "$E[Y|X] = - 1.070 + 2.983 X - 1.814 X^2$"
      ],
      "text/plain": [
       "<IPython.core.display.Markdown object>"
      ]
     },
     "metadata": {},
     "output_type": "display_data"
    }
   ],
   "source": [
    "# Format the coefficients with proper signs\n",
    "def format_coefficient(coef, is_first=False):\n",
    "    if coef < 0:\n",
    "        return f\"- {abs(coef):.3f}\"  # Negative coefficients\n",
    "    elif is_first:\n",
    "        return f\"{coef:.3f}\"  # First coefficient, no leading \"+\"\n",
    "    else:\n",
    "        return f\"+ {coef:.3f}\"  # Positive coefficients after the first one\n",
    "\n",
    "# Create a LaTeX formula using Python's f-string to insert the variable values\n",
    "conditionaExpectation = f\"$E[Y|X] = {format_coefficient(interceptTime2, is_first = True)} {format_coefficient(coefficient_X_Time2)} X {format_coefficient(coefficient_X_squared_Time2)} X^2$\"\n",
    "\n",
    "print(\"The condition expectation function using the result of the regression is : \")\n",
    "# Display the formula dynamically in the notebook using Markdown\n",
    "from IPython.display import display, Markdown\n",
    "display(Markdown(conditionaExpectation))"
   ]
  },
  {
   "cell_type": "code",
   "execution_count": 6,
   "id": "d4d50c1c",
   "metadata": {},
   "outputs": [
    {
     "name": "stdout",
     "output_type": "stream",
     "text": [
      "Optimal early exercise decision at time 2 \n",
      "\n",
      "Path Exercise Continuation Exercise > Continuation\n",
      " 1     0.02      0.0367               No          \n",
      " 2        -           -                -          \n",
      " 3     0.03      0.0459               No          \n",
      " 4     0.13      0.1175              Yes          \n",
      " 5        -           -                -          \n",
      " 6     0.33       0.152              Yes          \n",
      " 7     0.26      0.1564              Yes          \n",
      " 8        -           -                -          \n"
     ]
    }
   ],
   "source": [
    "\n",
    "#check optimal exersice check using above conditional expectaions and immediate payoff\n",
    "optimalExercise2 = pd.DataFrame()\n",
    "optimalExercise2['Path'] = samplePaths['Path']\n",
    "optimalExercise2['Exercise'] = round(k - samplePaths['t = 2'],2)\n",
    "optimalExercise2['Continuation'] = round(interceptTime2 + coefficient_X_Time2 * samplePaths['t = 2'] + coefficient_X_squared_Time2 * (samplePaths['t = 2'] ** 2),4)\n",
    "optimalExercise2['Exercise > Continuation'] = np.where(optimalExercise2['Exercise'] > optimalExercise2['Continuation'], \"Yes\" , \"No\")\n",
    "\n",
    "#discrad where option is out of the money\n",
    "optimalExercise2['Exercise'] = np.where(optimalExercise2['Exercise'] < 0 , \"-\", optimalExercise2['Exercise'])\n",
    "optimalExercise2['Continuation'] = np.where(optimalExercise2['Exercise'] == \"-\" , \"-\", optimalExercise2['Continuation'])\n",
    "optimalExercise2['Exercise > Continuation'] = np.where(optimalExercise2['Exercise'] == \"-\" , \"-\", optimalExercise2['Exercise > Continuation'])\n",
    "\n",
    "\n",
    "# Display the DataFrame\n",
    "print(\"Optimal early exercise decision at time 2 \\n\")\n",
    "print(optimalExercise2.to_string(index=False, header=True, justify='center'))"
   ]
  },
  {
   "cell_type": "markdown",
   "id": "dbf85417",
   "metadata": {},
   "source": [
    "It is optimal to exercise option at time 4, 5 and 7 at time 2. Now the we will modify the cash flow matrix both at time 2 and 3 based on the above results. Specifically if if it is optimal to exercse at time 2 then we will make the corresponding non zero entries at time 3 zero as the option is exercized at time 2 and there are no further cash flows."
   ]
  },
  {
   "cell_type": "code",
   "execution_count": 7,
   "id": "91837dee",
   "metadata": {},
   "outputs": [
    {
     "name": "stdout",
     "output_type": "stream",
     "text": [
      "Cash flow matrix at time 2 \n",
      "\n",
      "Path t = 1  t = 2  t = 3\n",
      " 1     -    0.00   0.00 \n",
      " 2     -    0.00   0.00 \n",
      " 3     -    0.00   0.07 \n",
      " 4     -    0.13   0.00 \n",
      " 5     -    0.00   0.00 \n",
      " 6     -    0.33   0.00 \n",
      " 7     -    0.26   0.00 \n",
      " 8     -    0.00   0.00 \n"
     ]
    }
   ],
   "source": [
    "cashFlowMetricsTime2 = pd.DataFrame()\n",
    "cashFlowMetricsTime2['Path'] =  samplePaths['Path']\n",
    "cashFlowMetricsTime2['t = 1'] = '-'\n",
    "cashFlowMetricsTime2['t = 2'] = np.where(optimalExercise2['Exercise > Continuation'] == \"Yes\", (k - samplePaths['t = 2']).clip(0), 0)\n",
    "cashFlowMetricsTime2['t = 3'] = np.where(optimalExercise2['Exercise > Continuation'] == \"Yes\", 0, cashFlowMetricsTime3['t = 3'])\n",
    "\n",
    "# Display the DataFrame\n",
    "print(\"Cash flow matrix at time 2 \\n\")\n",
    "print(cashFlowMetricsTime2.to_string(index=False))"
   ]
  },
  {
   "cell_type": "markdown",
   "id": "ccffb396",
   "metadata": {},
   "source": [
    "Proceeding recursively, we next examine whether the option should be exercised at time 1. From the stock price matrix, there are again five paths where the option is in the money at time 1. For these paths, we again define Y as the discounted value of subsequent option cash flows. Note that in defining Y, we use actual realized cash flows along each path; we do not\n",
    "use the conditional expected value of Y estimated at time 2 in defining Y at time 1. Discounting back the conditional expected\n",
    "value rather than actual cash flows can lead to an upward bias in the value of the option.\n",
    "\n",
    "Since the option can only be exercised once, future cash flows occur at either time 2 or time 3, but not both. Cash flows received at time 2 are discounted back one period to time 1, and any cash flows received at time 3 are discounted back two periods to time 1. Similarly X represents the stock prices at time 1 for the paths where the option is in the money. The vectors X and Y are given by the nondashed elements in the following matrix."
   ]
  },
  {
   "cell_type": "code",
   "execution_count": 8,
   "id": "ad5d79fe",
   "metadata": {},
   "outputs": [
    {
     "name": "stdout",
     "output_type": "stream",
     "text": [
      "Regression at time 1 \n",
      "\n",
      "Path       Y          X  \n",
      " 1    0.0 x 0.94176  1.09\n",
      " 2                -     -\n",
      " 3                -     -\n",
      " 4   0.13 x 0.94176  0.93\n",
      " 5                -     -\n",
      " 6   0.33 x 0.94176  0.76\n",
      " 7   0.26 x 0.94176  0.92\n",
      " 8    0.0 x 0.94176  0.88\n"
     ]
    }
   ],
   "source": [
    "discountFactorTime2 = round(np.exp(-r*1), 5)\n",
    "discountFactorTime3 = round(np.exp(-r*2), 5)\n",
    "#get X and Y at time 2\n",
    "regressionTime1 = pd.DataFrame()\n",
    "regressionTime1['Path'] = samplePaths['Path']\n",
    "regressionTime1['Y'] = np.where(cashFlowMetricsTime2['t = 3'] != 0, \n",
    "                                round(cashFlowMetricsTime2['t = 3'],2).astype(str) + ' x ' +  str(discountFactorTime3),\n",
    "                                round(cashFlowMetricsTime2['t = 2'],2).astype(str) + ' x ' +  str(discountFactorTime2))\n",
    "regressionTime1['X'] = samplePaths['t = 1']\n",
    "\n",
    "#check if option is in the money at time 2 and consider only those paths\n",
    "regressionTime1[['Y', 'X']] = regressionTime1.apply(lambda row: row[['Y', 'X']] if row['X'] < k else ['-'] * 2, axis=1)\n",
    "\n",
    "\n",
    "\n",
    "# Display the DataFrame\n",
    "print(\"Regression at time 1 \\n\")\n",
    "print(regressionTime1.to_string(index=False, header=True, justify='center'))"
   ]
  },
  {
   "cell_type": "code",
   "execution_count": 9,
   "id": "f0ba5cd4",
   "metadata": {},
   "outputs": [
    {
     "name": "stdout",
     "output_type": "stream",
     "text": [
      "The condition expectation function using the result of the regression is : \n"
     ]
    },
    {
     "data": {
      "text/markdown": [
       "$E[Y|X] = 2.038 - 3.335 X + 1.356 X^2$"
      ],
      "text/plain": [
       "<IPython.core.display.Markdown object>"
      ]
     },
     "metadata": {},
     "output_type": "display_data"
    }
   ],
   "source": [
    "#Regression step\n",
    "# working with a copy of the DataFrame\n",
    "regressionTime1Final = regressionTime1.copy()\n",
    "\n",
    "# Prepare the data for regression\n",
    "regressionTime1Final['Y'] = np.where(cashFlowMetricsTime2['t = 3'] != 0, \n",
    "                                cashFlowMetricsTime2['t = 3'] * discountFactorTime3,\n",
    "                                cashFlowMetricsTime2['t = 2'] * discountFactorTime2)\n",
    "\n",
    "# Drop samples where option is out of the money at time 2\n",
    "regressionTime1Final = regressionTime1Final[regressionTime1Final['X'] != '-']\n",
    "\n",
    "# Convert 'Y' and 'X' to numeric using .loc to avoid SettingWithCopyWarning\n",
    "regressionTime1Final.loc[:, 'Y'] = pd.to_numeric(regressionTime1Final['Y'], errors='coerce')\n",
    "regressionTime1Final.loc[:, 'X'] = pd.to_numeric(regressionTime1Final['X'], errors='coerce')\n",
    "\n",
    "# Create 'X^2' (squared term)\n",
    "regressionTime1Final.loc[:, 'X_Squared'] = regressionTime1Final['X'] ** 2\n",
    "\n",
    "# Define the independent variables (including constant)\n",
    "X = regressionTime1Final[['X', 'X_Squared']]\n",
    "X = sm.add_constant(X)  # Adds the constant term to the model\n",
    "\n",
    "# Define the dependent variable\n",
    "y = regressionTime1Final['Y']\n",
    "\n",
    "# Perform the regression\n",
    "model = sm.OLS(y, X).fit()\n",
    "\n",
    "# Print the summary of the regression\n",
    "#print(model.summary())\n",
    "\n",
    "#get the final result\n",
    "interceptTime1 = model.params['const']\n",
    "coefficient_X_Time1 = model.params['X']\n",
    "coefficient_X_squared_Time1 = model.params['X_Squared']\n",
    "\n",
    "# Format the coefficients with proper signs\n",
    "def format_coefficient(coef, is_first=False):\n",
    "    if coef < 0:\n",
    "        return f\"- {abs(coef):.3f}\"  # Negative coefficients\n",
    "    elif is_first:\n",
    "        return f\"{coef:.3f}\"  # First coefficient, no leading \"+\"\n",
    "    else:\n",
    "        return f\"+ {coef:.3f}\"  # Positive coefficients after the first one\n",
    "\n",
    "# Create a LaTeX formula using Python's f-string to insert the variable values\n",
    "conditionaExpectationTime1 = f\"$E[Y|X] = {format_coefficient(interceptTime1, is_first = True)} {format_coefficient(coefficient_X_Time1)} X {format_coefficient(coefficient_X_squared_Time1)} X^2$\"\n",
    "\n",
    "print(\"The condition expectation function using the result of the regression is : \")\n",
    "# Display the formula dynamically in the notebook using Markdown\n",
    "from IPython.display import display, Markdown\n",
    "display(Markdown(conditionaExpectationTime1))"
   ]
  },
  {
   "cell_type": "code",
   "execution_count": 10,
   "id": "267a3d7e",
   "metadata": {},
   "outputs": [
    {
     "name": "stdout",
     "output_type": "stream",
     "text": [
      "Optimal early exercise decision at time 1 \n",
      "\n",
      "Path Exercise Continuation Exercise > Continuation\n",
      " 1     0.01      0.0135               No          \n",
      " 2        -           -                -          \n",
      " 3        -           -                -          \n",
      " 4     0.17      0.1087              Yes          \n",
      " 5        -           -                -          \n",
      " 6     0.34      0.2861              Yes          \n",
      " 7     0.18       0.117              Yes          \n",
      " 8     0.22      0.1528              Yes          \n"
     ]
    }
   ],
   "source": [
    "\n",
    "#check optimal exersice check using above conditional expectaions and immediate payoff\n",
    "optimalExercise1 = pd.DataFrame()\n",
    "optimalExercise1['Path'] = samplePaths['Path']\n",
    "optimalExercise1['Exercise'] = round(k - samplePaths['t = 1'],2)\n",
    "optimalExercise1['Continuation'] = round(interceptTime1 + coefficient_X_Time1 * samplePaths['t = 1'] + coefficient_X_squared_Time1 * (samplePaths['t = 1'] ** 2),4)\n",
    "optimalExercise1['Exercise > Continuation'] = np.where(optimalExercise1['Exercise'] > optimalExercise1['Continuation'], \"Yes\" , \"No\")\n",
    "\n",
    "#discrad where option is out of the money\n",
    "optimalExercise1['Exercise'] = np.where(optimalExercise1['Exercise'] < 0 , \"-\", optimalExercise1['Exercise'])\n",
    "optimalExercise1['Continuation'] = np.where(optimalExercise1['Exercise'] == \"-\" , \"-\", optimalExercise1['Continuation'])\n",
    "optimalExercise1['Exercise > Continuation'] = np.where(optimalExercise1['Exercise'] == \"-\" , \"-\", optimalExercise1['Exercise > Continuation'])\n",
    "\n",
    "\n",
    "# Display the DataFrame\n",
    "print(\"Optimal early exercise decision at time 1 \\n\")\n",
    "print(optimalExercise1.to_string(index=False, header=True, justify='center'))"
   ]
  },
  {
   "cell_type": "markdown",
   "id": "0763667f",
   "metadata": {},
   "source": [
    "Based on the above results we can modify our cash flow matrix obtained at time 2. Make all the entries at later time points are made equal to 0 f early exercise is possible at time 1."
   ]
  },
  {
   "cell_type": "code",
   "execution_count": 11,
   "id": "925b019c",
   "metadata": {},
   "outputs": [
    {
     "name": "stdout",
     "output_type": "stream",
     "text": [
      "Option Cash flow matrix \n",
      "\n",
      "Path  t = 1  t = 2  t = 3\n",
      " 1    0.00   0.0    0.00 \n",
      " 2    0.00   0.0    0.00 \n",
      " 3    0.00   0.0    0.07 \n",
      " 4    0.17   0.0    0.00 \n",
      " 5    0.00   0.0    0.00 \n",
      " 6    0.34   0.0    0.00 \n",
      " 7    0.18   0.0    0.00 \n",
      " 8    0.22   0.0    0.00 \n",
      "\n",
      "\n",
      " Stopping rule \n",
      "\n",
      "      t = 1  t = 2  t = 3\n",
      "Path                     \n",
      "1       0      0      0  \n",
      "2       0      0      0  \n",
      "3       0      0      1  \n",
      "4       1      0      0  \n",
      "5       0      0      0  \n",
      "6       1      0      0  \n",
      "7       1      0      0  \n",
      "8       1      0      0  \n"
     ]
    }
   ],
   "source": [
    "cashFlowMetricsTime1 = pd.DataFrame()\n",
    "cashFlowMetricsTime1['Path'] =  samplePaths['Path']\n",
    "cashFlowMetricsTime1['t = 1'] = np.where(optimalExercise1['Exercise > Continuation'] == \"Yes\", (k - samplePaths['t = 1']).clip(0), 0)\n",
    "cashFlowMetricsTime1['t = 2'] = np.where(optimalExercise1['Exercise > Continuation'] == \"Yes\", 0,\n",
    "                                np.where(optimalExercise2['Exercise > Continuation'] == \"Yes\", \n",
    "                                         (k - samplePaths['t = 2']).clip(0), 0))\n",
    "cashFlowMetricsTime1['t = 3'] = np.where((optimalExercise1['Exercise > Continuation'] == \"Yes\") & (optimalExercise2['Exercise > Continuation'] == \"Yes\"),\n",
    "                                         0, cashFlowMetricsTime3['t = 3'])\n",
    "\n",
    "# Display the DataFrame\n",
    "print(\"Option Cash flow matrix \\n\")\n",
    "print(cashFlowMetricsTime1.to_string(index=False))\n",
    "\n",
    "#conver this matrix to stoppin time rule\n",
    "print(\"\\n\\n Stopping rule \\n\")\n",
    "cashFlowMetricsTime1.set_index('Path', inplace=True)\n",
    "stoppingRule = (cashFlowMetricsTime1 != 0).astype(int)\n",
    "print(stoppingRule.to_string(index=True))"
   ]
  },
  {
   "cell_type": "code",
   "execution_count": 12,
   "id": "456b5239",
   "metadata": {},
   "outputs": [
    {
     "name": "stdout",
     "output_type": "stream",
     "text": [
      "Price of American option price is : 0.1144\n",
      "\n",
      "Price of European option price is : 0.0564\n"
     ]
    }
   ],
   "source": [
    "#after identifying final cash flow matrix using the stopping rule we an now get the price of American option\n",
    "am_option_price = np.average(cashFlowMetricsTime1['t = 1'] * np.exp(-r*1) + cashFlowMetricsTime1['t = 2'] * np.exp(-r*2) + \n",
    "                  cashFlowMetricsTime1['t = 3'] * np.exp(-r*3) )\n",
    "#get European option price based on cash flows at time 3 only wuthout early exercise\n",
    "eu_option_price = np.average(cashFlowMetricsTime3['t = 3'] * np.exp(-r*3) )\n",
    "print(\"Price of American option price is : \" + str(round(am_option_price, 4)))\n",
    "print(\"\\nPrice of European option price is : \" + str(round(eu_option_price, 4)))"
   ]
  },
  {
   "cell_type": "code",
   "execution_count": 16,
   "id": "df38ec71",
   "metadata": {},
   "outputs": [
    {
     "data": {
      "text/plain": [
       "Path\n",
       "1    0.000000\n",
       "2    0.000000\n",
       "3    0.058469\n",
       "4    0.000000\n",
       "5    0.000000\n",
       "6    0.000000\n",
       "7    0.000000\n",
       "8    0.000000\n",
       "Name: t = 3, dtype: float64"
      ]
     },
     "execution_count": 16,
     "metadata": {},
     "output_type": "execute_result"
    }
   ],
   "source": [
    "cashFlowMetricsTime1['t = 3'] * np.exp(-r*3) "
   ]
  },
  {
   "cell_type": "code",
   "execution_count": null,
   "id": "2b04c2e1",
   "metadata": {},
   "outputs": [],
   "source": []
  }
 ],
 "metadata": {
  "kernelspec": {
   "display_name": "Python 3",
   "language": "python",
   "name": "python3"
  },
  "language_info": {
   "codemirror_mode": {
    "name": "ipython",
    "version": 3
   },
   "file_extension": ".py",
   "mimetype": "text/x-python",
   "name": "python",
   "nbconvert_exporter": "python",
   "pygments_lexer": "ipython3",
   "version": "3.8.8"
  }
 },
 "nbformat": 4,
 "nbformat_minor": 5
}
