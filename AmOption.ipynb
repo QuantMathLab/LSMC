{
 "cells": [
  {
   "cell_type": "code",
   "execution_count": 1,
   "id": "73c374ac",
   "metadata": {},
   "outputs": [],
   "source": [
    "import math\n",
    "import numpy as np\n",
    "import pandas as pd\n",
    "from scipy import stats\n",
    "from scipy.stats import norm\n",
    "import statsmodels.api as sm"
   ]
  },
  {
   "cell_type": "code",
   "execution_count": 2,
   "id": "78c4fde5",
   "metadata": {},
   "outputs": [],
   "source": [
    "# Stock class remains unchanged\n",
    "#S0 current_price\n",
    "#sigma volatility\n",
    "#r continuously compunded risk_free_rate\n",
    "\n",
    "class Stock:\n",
    "    def __init__(self, s0, sigma, r):\n",
    "        self.s0 = s0\n",
    "        self.sigma = sigma\n",
    "        self.r = r\n",
    "    \n",
    "    def __repr__(self):\n",
    "        return f\"Stock(price={self.s0}, volatility={self.sigma}, continuously compunded risk_free_rate={self.r})\"\n"
   ]
  },
  {
   "cell_type": "code",
   "execution_count": 3,
   "id": "b721101c",
   "metadata": {},
   "outputs": [],
   "source": [
    "#stockName object of the class stock\n",
    "#nSteps number discretization steps done\n",
    "#dt discretization of the grid\n",
    "class BSModel:\n",
    "    def __init__(self, stockObj, optObj, numberOfPaths, nSteps):\n",
    "        self.stockObj = stockObj\n",
    "        self.opnObj = optObj\n",
    "        self.numberOfPaths = numberOfPaths\n",
    "        self.nSteps = nSteps\n",
    "        \n",
    "        \n",
    "    def generateRandonNumbers(self, seed = None):\n",
    "\n",
    "        if seed is not None:\n",
    "            np.random.seed(seed)  # Set seed for reproducibility\n",
    "                    \n",
    "        # Generate standard normal random numbers\n",
    "        z = np.random.normal(0, 1, (self.numberOfPaths, self.nSteps))\n",
    "        \n",
    "        # Create antithetic variates\n",
    "        #zAntithetic = -z\n",
    "        \n",
    "        # Combine both sets (original and antithetic)\n",
    "        #randomNumbers = np.vstack((z, zAntithetic))  # Shape: (2 * numberOfPaths, nSteps)\n",
    "\n",
    "        return z \n",
    "    \n",
    "    def generateSamplePaths(self, randomNumbersMatrix):\n",
    "        \n",
    "        #calculate dt\n",
    "        dt = self.opnObj.timeToExpiry/self.opnObj.nSteps\n",
    "        \n",
    "        # Initialize the paths matrix\n",
    "        samplePaths = np.zeros((self.numberOfPaths, self.opnObj.nSteps + 1))\n",
    "        samplePaths[:, 0] = self.stockObj.s0  # Set the initial price\n",
    "        \n",
    "        #simulation using GBM process\n",
    "        for t in range(1, self.opnObj.nSteps + 1):\n",
    "            dW = np.sqrt(dt) * randomNumbersMatrix[:, t - 1]  # Brownian increments\n",
    "            samplePaths[:, t] = samplePaths[:, t - 1] * np.exp((self.stockObj.r - 0.5 * self.stockObj.sigma**2) * dt + self.stockObj.sigma * dW)\n",
    "            \n",
    "        return samplePaths"
   ]
  },
  {
   "cell_type": "code",
   "execution_count": 4,
   "id": "c190823b",
   "metadata": {},
   "outputs": [],
   "source": [
    "class Option:\n",
    "    def __init__(self, timeToExpiry, nSteps, strike):\n",
    "        self.timeToExpiry = timeToExpiry\n",
    "        self.nSteps = nSteps\n",
    "        self.strike = strike\n",
    "        \n",
    "class EurOption():\n",
    "\n",
    "    def __init__(self, stockObj, optionObj):\n",
    "        self.stockObj = stockObj\n",
    "        self.optionObj = optionObj\n",
    "    \n",
    "    def priceByBSAnalytic(self, optionType):\n",
    "        \n",
    "        d1 = (np.log(self.stockObj.s0 / self.optionObj.strike) + (self.stockObj.r + 0.5 * self.stockObj.sigma**2) * (self.optionObj.timeToExpiry)) / (self.stockObj.sigma * np.sqrt(self.optionObj.timeToExpiry))\n",
    "        d2 = d1 - self.stockObj.sigma * np.sqrt(self.optionObj.timeToExpiry)\n",
    "        \n",
    "        if optionType == \"call\":\n",
    "            price = self.stockObj.s0 * norm.cdf(d1) - self.optionObj.strike * np.exp(-self.stockObj.r * self.stockObj.T) * norm.cdf(d2)\n",
    "        elif optionType == \"put\":\n",
    "            price = self.optionObj.strike * np.exp(-self.stockObj.r * self.optionObj.timeToExpiry) * norm.cdf(-d2) - self.stockObj.s0 * norm.cdf(-d1)\n",
    "        else:\n",
    "            raise ValueError(\"Invalid option type. Choose 'call' or 'put'.\")\n",
    "    \n",
    "        return price\n",
    "    \n",
    "    def priceByBSMC(self, samplePaths, optionType):\n",
    "        \n",
    "        if optionType == \"call\":\n",
    "            payoff = np.maximum(samplePaths[:,-1] - self.optionObj.strike, 0)\n",
    "        elif optionType == 'put':\n",
    "            payoff = np.maximum(self.optionObj.strike - samplePaths[:,-1], 0)\n",
    "        else:\n",
    "            raise ValueError(\"Invalid option type. Choose 'call' or 'put'.\")\n",
    "            \n",
    "        #dicount the payoff \n",
    "        payoff = payoff * np.exp(-self.stockObj.r * self.optionObj.timeToExpiry)\n",
    "        \n",
    "        return np.mean(payoff)\n",
    "        \n",
    "        \n",
    "    "
   ]
  },
  {
   "cell_type": "code",
   "execution_count": 39,
   "id": "592c1c48",
   "metadata": {},
   "outputs": [],
   "source": [
    "class AmOption():\n",
    "\n",
    "    def __init__(self, stockObj, optionObj, modelObj):\n",
    "        self.stockObj = stockObj\n",
    "        self.optionObj = optionObj\n",
    "        self.modelObj = modelObj\n",
    "        \n",
    "    def payOff(self, pathCrossSection):\n",
    "        return np.maximum(self.optionObj.strike - pathCrossSection, 0)\n",
    "    \n",
    "    def getDt(self):\n",
    "        return self.optionObj.timeToExpiry/self.optionObj.nSteps\n",
    "    \n",
    "    def regressionFunction(self, pathCrossSectionPayOff, pathCrossSectionTminus1, exerciseD, dfs):\n",
    "        #calculate dt\n",
    "        dt = self.getDt()\n",
    "        #create empty dataframe to hold Y and X\n",
    "        regression = pd.DataFrame()\n",
    "        #print(pathCrossSectionPayOff * exerciseD * dfs)\n",
    "        regression['Y'] = np.sum(pathCrossSectionPayOff * exerciseD * dfs, axis = 1)\n",
    "        #print(pathCrossSectionTminus1[:, 0])\n",
    "        regression['X'] = pathCrossSectionTminus1[:, 0]\n",
    "        #find where option is in the money at T-1 and include only those paths in regression\n",
    "        regression = regression[regression['X'] < self.optionObj.strike]\n",
    "        # Create 'X^2' (squared term)\n",
    "        regression.loc[:, 'X_Squared'] = regression['X'] ** 2\n",
    "        # Define the independent variables (including constant)\n",
    "        X = regression[['X', 'X_Squared']]\n",
    "        X = sm.add_constant(X)  # Adds the constant term to the model\n",
    "\n",
    "        # Define the dependent variable\n",
    "        y = regression['Y']\n",
    "        \n",
    "        # Perform the regression\n",
    "        model = sm.OLS(y, X).fit()\n",
    "        \n",
    "        return model, regression\n",
    "    \n",
    "    def getContinuationValue(self, regFunc, pathCrossSectionTminus1, immediatePayoff):\n",
    "        #get parameters of the regFunc\n",
    "        intercept = regFunc.params['const']\n",
    "        coefficient_X = regFunc.params['X']\n",
    "        coefficient_X_squared = regFunc.params['X_Squared']\n",
    "        #calculate continuation value\n",
    "        return intercept + coefficient_X * pathCrossSectionTminus1 + coefficient_X_squared * (pathCrossSectionTminus1 ** 2)\n",
    "        \n",
    "        \n",
    "    def priceAmByLSMC(self, samplePaths, dt):\n",
    "        #create an empty matrix exercise decision 0 - no exercise, 1 - exercise\n",
    "        exerciseDecisionMatrix = np.zeros((self.modelObj.numberOfPaths, self.modelObj.nSteps))\n",
    "        #similary create empty payoff matrix\n",
    "        payoffMatrix = np.zeros((self.modelObj.numberOfPaths, self.modelObj.nSteps))\n",
    "        \n",
    "        #get the payoff at the end\n",
    "        payoffMatrix[:, -1] = self.payOff(samplePaths[:, -1])\n",
    "        exerciseDecisionMatrix[:, -1] = np.where(payoffMatrix[:, -1] > 0 , 1, 0)\n",
    "        #discount factors\n",
    "        discountFactors = np.array([])\n",
    "        #print(payoffMatrix)\n",
    "        #print(exerciseDecisionMatrix)\n",
    "        #loop throgh all time points and run LSM\n",
    "        results_dict = {}\n",
    "        for t in range(self.modelObj.nSteps - 2, -1, -1):\n",
    "            \n",
    "            #get immmediate payoff\n",
    "            payoffMatrix[:, t] = self.payOff(samplePaths[:, t+1])\n",
    "            exerciseDecisionMatrix[:, t] = np.where(payoffMatrix[:, t] > 0, 1 , 0)\n",
    "            #calculate dicount factors\n",
    "            discountFactor = np.exp(-self.modelObj.stockObj.r * dt * (self.modelObj.nSteps  - t - 1))\n",
    "            #print(\"self.modelObj.nSteps  - t - 1 : \", self.modelObj.nSteps  - t - 1, \"discountFactor : \", discountFactor )\n",
    "            discountFactors = np.append(discountFactors, discountFactor)\n",
    "            #print(\"t : \", t, \" \", discountFactors)\n",
    "            \n",
    "            #get regression function to calculate conditional expectation\n",
    "            #print(samplePaths[:, t+1:].shape)\n",
    "            regFunction, regDF = self.regressionFunction(payoffMatrix[:, t+1:], samplePaths[:, t+1:], exerciseDecisionMatrix[:, t+1:], discountFactors)\n",
    "            #pd.DataFrame(payoffMatrix[:, t+1:]).to_csv(\"payoffMatrix_\" + str(t+1) + '.csv')\n",
    "            #pd.DataFrame(samplePaths[:, t+1:]).to_csv(\"samplePaths_\" + str(t+1) + '.csv')\n",
    "            #pd.DataFrame(exerciseDecisionMatrix[:, t+1:]).to_csv(\"exerciseDecisionMatrix\" + str(t+1) + '.csv')\n",
    "            # Store relevant results in a dictionary\n",
    "            results_dict[f'Regression_{t}'] = {\n",
    "            'coefficients': regFunction.params,\n",
    "            }\n",
    "            \n",
    "            #print(regFunction.params)\n",
    "            #get continuation decision\n",
    "            contValue = self.getContinuationValue(regFunction, samplePaths[:, t+1], payoffMatrix[:, t])\n",
    "            #regDF['contValue'] = contValue\n",
    "            #check if contValue is greater than immediate payoff and replace that\n",
    "            condition = (payoffMatrix[:, t] > contValue) & (payoffMatrix[:, t] > 0)\n",
    "            #regDF['condition'] = condition\n",
    "            payoffMatrix[:, t] = np.where(condition, payoffMatrix[:, t], 0)\n",
    "            exerciseDecisionMatrix[:, t] = np.where(condition, 1 , 0)\n",
    "            #regDF['exerciseDecision'] = exerciseDecisionMatrix[:, t]\n",
    "            #also make sure all the payoffs after exersice are zero\n",
    "            payoffMatrix[condition, t+1:] = 0\n",
    "            #print(condition)\n",
    "            exerciseDecisionMatrix[condition, t+1:] = 0\n",
    "            #print(payoffMatrix)\n",
    "            #print(exerciseDecisionMatrix)\n",
    "            #regDF.to_csv('regDF_' + str(t) + '.csv')\n",
    "        #caculate final price\n",
    "        #dicount all payofss\n",
    "        #print(discountFactors)\n",
    "        for i in range(0, self.optionObj.nSteps):\n",
    "            payoffMatrix[:,i] = payoffMatrix[:,i] * np.exp(-self.stockObj.r * dt * (i+1))\n",
    "        #take mean\n",
    "        V = np.sum(payoffMatrix) / self.modelObj.numberOfPaths\n",
    "            \n",
    "        return V, payoffMatrix, exerciseDecisionMatrix, results_dict\n",
    "        \n",
    "    "
   ]
  },
  {
   "cell_type": "code",
   "execution_count": 57,
   "id": "76b1957f",
   "metadata": {
    "scrolled": true
   },
   "outputs": [
    {
     "name": "stdout",
     "output_type": "stream",
     "text": [
      "Price by Black-Scholes analytic formuala of a put option :  6.326\n",
      "Price by Black-Scholes Monte-Carlo simulation of a put option :  6.326\n"
     ]
    }
   ],
   "source": [
    "# s0 = 40\n",
    "# sigma = 0.4\n",
    "# r = 0.06\n",
    "# paths = 50000\n",
    "# T = 2\n",
    "# steps = T * 50\n",
    "# K = 40\n",
    "\n",
    "# #create stock with spot, vol and RFR\n",
    "# stock1 = Stock(s0, sigma, r)\n",
    "# #create option object\n",
    "# Option1 = Option(T, steps, K)\n",
    "# #create BS model object with required number of paths and steps for above stock\n",
    "# Model = BSModel(stock1, Option1, paths, steps)\n",
    "# #create option now\n",
    "# EurOption1 = EurOption(stock1, Option1)\n",
    "# #generate random variables\n",
    "# randomNums = Model.generateRandonNumbers(0)\n",
    "# #generate paths now\n",
    "# #simulationPaths = Model.generateSamplePaths(randomNums)\n",
    "# # simulationPaths = pd.read_csv('simulated_paths.csv')\n",
    "# # simulationPaths = simulationPaths.to_numpy()\n",
    "# simulationPaths = Model.generateSamplePaths(randomNums)\n",
    "# simulationPathsAnt = Model.generateSamplePaths(-randomNums)\n",
    "\n",
    "# #final price average of two\n",
    "# eurPutOptPriceByMC =  round((EurOption1.priceByBSMC(simulationPaths, \"put\") + EurOption1.priceByBSMC(simulationPathsAnt, \"put\")) / 2, 3)\n",
    "# eurPutOptPriceByAnalytic = round(EurOption1.priceByBSAnalytic(\"put\"), 3)\n",
    "\n",
    "\n",
    "\n",
    "# print(\"Price by Black-Scholes analytic formuala of a put option : \" , eurPutOptPriceByAnalytic)\n",
    "# print(\"Price by Black-Scholes Monte-Carlo simulation of a put option : \" , eurPutOptPriceByMC)\n"
   ]
  },
  {
   "cell_type": "code",
   "execution_count": 58,
   "id": "23f06ebc",
   "metadata": {},
   "outputs": [],
   "source": [
    "# # Data\n",
    "# k = 1.1\n",
    "# r = 0.06\n",
    "# samplePaths = np.array(\n",
    "#     [[1.00, 1.00, 1.00, 1.00, 1.00, 1.00, 1.00, 1.00],\n",
    "#      [1.09, 1.16, 1.22, 0.93, 1.11, 0.76, 0.92, 0.88],\n",
    "#      [1.08, 1.26, 1.07, 0.97, 1.56, 0.77, 0.84, 1.22],\n",
    "#      [1.34, 1.54, 1.03, 0.92, 1.52, 0.90, 1.01, 1.34]])\n",
    "\n",
    "\n",
    "    \n",
    "# s0 = 1.00\n",
    "# sigma = 0.4\n",
    "# r = 0.06\n",
    "# paths = 8\n",
    "# steps = 3\n",
    "# T = 3\n",
    "# K = 1.1\n",
    "\n",
    "# #create stock with spot, vol and RFR\n",
    "# stock2 = Stock(s0, sigma, r)\n",
    "# #create option object\n",
    "# Option2 = Option(T, steps, K)\n",
    "# #create BS model object with required number of paths and steps for above stock\n",
    "# Model = BSModel(stock2, Option2, paths, steps)\n"
   ]
  },
  {
   "cell_type": "code",
   "execution_count": 59,
   "id": "e91b0d96",
   "metadata": {},
   "outputs": [],
   "source": [
    "# #create american option now\n",
    "# AmOption2 = AmOption(stock2, Option2, Model)\n",
    "# dt = AmOption2.getDt()\n",
    "# V, payoffMatrix, exerciseDecisionMatrix = AmOption2.priceAmByLSMC(samplePaths.T, dt)\n",
    "# print(V)"
   ]
  },
  {
   "cell_type": "code",
   "execution_count": 64,
   "id": "a0c77195",
   "metadata": {},
   "outputs": [
    {
     "name": "stdout",
     "output_type": "stream",
     "text": [
      "0.02\n",
      "6.903432584715462\n"
     ]
    }
   ],
   "source": [
    "# #create american option now\n",
    "# AmOption1 = AmOption(stock1, Option1, Model)\n",
    "# dt = AmOption1.getDt()\n",
    "# print(dt)\n",
    "# V, payoffMatrix, exerciseDecisionMatrix, results_dict = AmOption1.priceAmByLSMC(simulationPaths, dt)\n",
    "# V1, payoffMatrix1, exerciseDecisionMatrix1, results_dict1 = AmOption1.priceAmByLSMC(simulationPathsAnt, dt)\n",
    "# amOptionPrice = (V+V1)/2\n",
    "# print(amOptionPrice)"
   ]
  },
  {
   "cell_type": "code",
   "execution_count": 61,
   "id": "6e81bd33",
   "metadata": {},
   "outputs": [],
   "source": [
    "#np.savetxt(\"simulationPaths.csv\", simulationPaths, delimiter=\",\")"
   ]
  },
  {
   "cell_type": "code",
   "execution_count": 62,
   "id": "0be05f36",
   "metadata": {},
   "outputs": [],
   "source": [
    "#np.savetxt(\"randomNums.csv\", randomNums, delimiter=\",\")"
   ]
  },
  {
   "cell_type": "code",
   "execution_count": 65,
   "id": "f886c1b7",
   "metadata": {},
   "outputs": [
    {
     "name": "stdout",
     "output_type": "stream",
     "text": [
      "6.9417\n"
     ]
    }
   ],
   "source": [
    "# print(round(V1, 4))"
   ]
  },
  {
   "cell_type": "code",
   "execution_count": 73,
   "id": "3afc6004",
   "metadata": {},
   "outputs": [
    {
     "data": {
      "text/plain": [
       "0.02186953507462002"
      ]
     },
     "execution_count": 73,
     "metadata": {},
     "output_type": "execute_result"
    }
   ],
   "source": [
    "# arr = np.append(np.sum(payoffMatrix, axis = 1),(np.sum(payoffMatrix1, axis = 1)))\n",
    "# np.std(arr, ddof=1) / np.sqrt(len(arr))"
   ]
  },
  {
   "cell_type": "code",
   "execution_count": 38,
   "id": "3620e734",
   "metadata": {},
   "outputs": [
    {
     "name": "stdout",
     "output_type": "stream",
     "text": [
      "Regression_98\n",
      "{'coefficients': const        40.875878\n",
      "X            -1.066515\n",
      "X_Squared     0.001165\n",
      "dtype: float64}\n",
      "Regression_97\n",
      "{'coefficients': const        41.561030\n",
      "X            -1.117680\n",
      "X_Squared     0.002082\n",
      "dtype: float64}\n"
     ]
    }
   ],
   "source": [
    "# for key in results_dict:\n",
    "#     print(key)\n",
    "#     print(results_dict[key])\n",
    "    "
   ]
  },
  {
   "cell_type": "code",
   "execution_count": null,
   "id": "d290128e",
   "metadata": {},
   "outputs": [],
   "source": []
  },
  {
   "cell_type": "code",
   "execution_count": null,
   "id": "cbed9f55",
   "metadata": {},
   "outputs": [],
   "source": []
  }
 ],
 "metadata": {
  "kernelspec": {
   "display_name": "Python 3",
   "language": "python",
   "name": "python3"
  },
  "language_info": {
   "codemirror_mode": {
    "name": "ipython",
    "version": 3
   },
   "file_extension": ".py",
   "mimetype": "text/x-python",
   "name": "python",
   "nbconvert_exporter": "python",
   "pygments_lexer": "ipython3",
   "version": "3.8.8"
  }
 },
 "nbformat": 4,
 "nbformat_minor": 5
}
